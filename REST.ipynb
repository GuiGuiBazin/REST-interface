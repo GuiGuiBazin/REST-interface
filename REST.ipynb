{
 "cells": [
  {
   "cell_type": "markdown",
   "id": "c6172d33-4934-4554-91dd-772dbdcf6a4b",
   "metadata": {},
   "source": [
    "## I - Imports"
   ]
  },
  {
   "cell_type": "code",
   "execution_count": null,
   "id": "0ac9d86a-a603-4246-bdab-d84058e340cd",
   "metadata": {},
   "outputs": [],
   "source": [
    "from REST_modules import *"
   ]
  },
  {
   "cell_type": "markdown",
   "id": "c2fb8e24-7bf0-424e-b8fa-fdc58b4d2d6f",
   "metadata": {},
   "source": [
    "## II -  REST interface"
   ]
  },
  {
   "cell_type": "code",
   "execution_count": null,
   "id": "19f685bc-14f8-4acd-b654-753762a1f1c9",
   "metadata": {
    "tags": []
   },
   "outputs": [],
   "source": [
    "Launch_REST()"
   ]
  },
  {
   "cell_type": "code",
   "execution_count": null,
   "id": "f52032b6-0dd2-4966-86e9-1eb5fac73e9d",
   "metadata": {},
   "outputs": [],
   "source": []
  }
 ],
 "metadata": {
  "kernelspec": {
<<<<<<< HEAD
   "display_name": "Python (REST_venv3)",
   "language": "python",
   "name": "rest_venv3"
=======
   "display_name": "Python (REST_venv4)",
   "language": "python",
   "name": "rest_venv4"
>>>>>>> 97a4ccd73d500ba2467f19750fbc9805b9814cd7
  },
  "language_info": {
   "codemirror_mode": {
    "name": "ipython",
    "version": 3
   },
   "file_extension": ".py",
   "mimetype": "text/x-python",
   "name": "python",
   "nbconvert_exporter": "python",
   "pygments_lexer": "ipython3",
   "version": "3.10.11"
  },
  "toc-showmarkdowntxt": false
 },
 "nbformat": 4,
 "nbformat_minor": 5
}
