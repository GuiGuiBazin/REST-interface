{
 "cells": [
  {
   "cell_type": "markdown",
   "id": "f3f05c88",
   "metadata": {},
   "source": [
    "# REST Interface\n",
    "## Introduction\n",
    "This notebook launches the REST interface, which evaluates a method system based on BRAT annotations.\n",
    "\n",
    "### Prerequisites\n",
    "- Clone the repository:\n",
    "  ```bash\n",
    "  git clone https://github.com/GuiGuiBazin/REST-interface.git\n",
    "  ```\n",
    "- Install the dependencies:\n",
    "  ```bash\n",
    "  pip install -r requirements.txt\n",
    "  ```\n",
    "- Download the required spaCy model:\n",
    "  ```bash\n",
    "  python -m spacy download fr_core_news_sm\n",
    "  ```\n",
    "\n",
    "This notebook assumes that dependencies are correctly installed and that the modules are accessible in the `REST_modules` folder."
   ]
  },
  {
   "cell_type": "markdown",
   "id": "3a5a0d25",
   "metadata": {},
   "source": [
    "## I - Imports"
   ]
  },
  {
   "cell_type": "code",
   "execution_count": null,
   "id": "d889a66f",
   "metadata": {},
   "outputs": [],
   "source": [
    "# Import necessary modules\n",
    "from REST_modules import *"
   ]
  },
  {
   "cell_type": "markdown",
   "id": "3c3e4f99",
   "metadata": {},
   "source": [
    "## II - Launch the REST Interface"
   ]
  },
  {
   "cell_type": "code",
   "execution_count": null,
   "id": "58776351",
   "metadata": {},
   "outputs": [],
   "source": [
    "# Launch the REST interface\n",
    "Launch_REST()"
   ]
  },
  {
   "cell_type": "markdown",
   "id": "cce1e551",
   "metadata": {},
   "source": [
    "## III - Additional Notes\n",
    "- If you encounter any issues, verify the dependency versions in the `requirements.txt` file.\n",
    "- Ensure that the spaCy model is correctly downloaded (see the Introduction section).\n",
    "- For further questions, refer to the documentation in the GitHub repository's README.md."
   ]
  }
 ],
 "metadata": {
  "kernelspec": {
   "display_name": "",
   "name": ""
  },
  "language_info": {
   "codemirror_mode": {
    "name": "ipython",
    "version": 3
   },
   "file_extension": ".py",
   "mimetype": "text/x-python",
   "name": "python",
   "nbconvert_exporter": "python",
   "pygments_lexer": "ipython3",
   "version": "3.10.11"
  },
  "toc-showmarkdowntxt": false
 },
 "nbformat": 4,
 "nbformat_minor": 5
}
